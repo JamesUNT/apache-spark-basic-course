{
  "nbformat": 4,
  "nbformat_minor": 0,
  "metadata": {
    "colab": {
      "provenance": [],
      "collapsed_sections": []
    },
    "kernelspec": {
      "name": "python3",
      "display_name": "Python 3"
    },
    "language_info": {
      "name": "python"
    }
  },
  "cells": [
    {
      "cell_type": "markdown",
      "source": [
        "# # Configuracao inicial necessarias para o projeto:"
      ],
      "metadata": {
        "id": "zcES0pXMbNyr"
      }
    },
    {
      "cell_type": "markdown",
      "source": [
        "## - Instalando dependências necessarias."
      ],
      "metadata": {
        "id": "E1o6IS9_Wuko"
      }
    },
    {
      "cell_type": "code",
      "execution_count": null,
      "metadata": {
        "id": "ef8kYsAWImEJ",
        "colab": {
          "base_uri": "https://localhost:8080/"
        },
        "outputId": "4c58cd4b-d56a-4bfa-b0d9-ded31b6f466b"
      },
      "outputs": [
        {
          "output_type": "stream",
          "name": "stdout",
          "text": [
            "\u001b[K     |████████████████████████████████| 281.4 MB 44 kB/s \n",
            "\u001b[K     |████████████████████████████████| 199 kB 60.1 MB/s \n",
            "\u001b[?25h  Building wheel for pyspark (setup.py) ... \u001b[?25l\u001b[?25hdone\n"
          ]
        }
      ],
      "source": [
        "!apt-get update -qq\n",
        "!apt-get install openjdk-8-jdk-headless -qq > /dev/null\n",
        "!wget -qq https://archive.apache.org/dist/spark/spark-3.1.2/spark-3.1.2-bin-hadoop2.7.tgz\n",
        "!tar xf spark-3.1.2-bin-hadoop2.7.tgz\n",
        "!pip install -qq findspark\n",
        "!pip install -qq pyspark"
      ]
    },
    {
      "cell_type": "markdown",
      "source": [
        "## - Definindo de variaveis de ambiente necessarias para o spark."
      ],
      "metadata": {
        "id": "bYwC89VRW02-"
      }
    },
    {
      "cell_type": "code",
      "source": [
        "import os\n",
        "os.environ[\"JAVA_HOME\"] = \"/usr/lib/jvm/java-8-openjdk-amd64\"\n",
        "os.environ[\"SPARK_HOME\"] = \"/content/spark-3.1.2-bin-hadoop2.7\""
      ],
      "metadata": {
        "id": "jVGzZ7_qIryv"
      },
      "execution_count": null,
      "outputs": []
    },
    {
      "cell_type": "markdown",
      "source": [
        "## - Localizando o binario do spark definido acima atraves do findspark."
      ],
      "metadata": {
        "id": "MpCXKgT7XEFT"
      }
    },
    {
      "cell_type": "code",
      "source": [
        "import findspark\n",
        "findspark.init()"
      ],
      "metadata": {
        "id": "R_fIdbqTIuYb"
      },
      "execution_count": null,
      "outputs": []
    },
    {
      "cell_type": "markdown",
      "source": [
        "## - Definindo uma sessao spark."
      ],
      "metadata": {
        "id": "6iWimdiEXVbZ"
      }
    },
    {
      "cell_type": "code",
      "source": [
        "from pyspark.sql import SparkSession\n",
        "\n",
        "spark = SparkSession.builder \\\n",
        "    .master('local[*]') \\\n",
        "    .appName(\"Iniciando com Spark\") \\\n",
        "    .getOrCreate()"
      ],
      "metadata": {
        "id": "yFnqiCajIwyF"
      },
      "execution_count": null,
      "outputs": []
    },
    {
      "cell_type": "markdown",
      "source": [
        "## - Testando o spark."
      ],
      "metadata": {
        "id": "wIB_fQHCXhCZ"
      }
    },
    {
      "cell_type": "code",
      "source": [
        "data = [('Zeca', '35'), ('Eva', '29')]\n",
        "colNames = ['Nome', 'Idade']\n",
        "\n",
        "df = spark.createDataFrame(data, colNames)\n",
        "\n",
        "df.toPandas()"
      ],
      "metadata": {
        "id": "ROwFqaTBIxdq"
      },
      "execution_count": null,
      "outputs": []
    },
    {
      "cell_type": "markdown",
      "source": [
        "# # Importacao dos arquivos a serem processados:"
      ],
      "metadata": {
        "id": "8Ku_t_hsb2Ez"
      }
    },
    {
      "cell_type": "markdown",
      "source": [
        "## - Definindo acesso aos arquivos do Google Drive."
      ],
      "metadata": {
        "id": "EsSWUUMPXmMZ"
      }
    },
    {
      "cell_type": "code",
      "source": [
        "from google.colab import drive\n",
        "drive.mount('/content/drive')"
      ],
      "metadata": {
        "colab": {
          "base_uri": "https://localhost:8080/"
        },
        "id": "3MdwjkkoUa8E",
        "outputId": "95c598c0-d4ec-4b10-91e2-675fa6e0f098"
      },
      "execution_count": null,
      "outputs": [
        {
          "output_type": "stream",
          "name": "stdout",
          "text": [
            "Mounted at /content/drive\n"
          ]
        }
      ]
    },
    {
      "cell_type": "markdown",
      "source": [
        "## - Extraindo os arquivos."
      ],
      "metadata": {
        "id": "f2scn49wXqLB"
      }
    },
    {
      "cell_type": "code",
      "source": [
        "import zipfile"
      ],
      "metadata": {
        "id": "kujYKmjHVxvT"
      },
      "execution_count": null,
      "outputs": []
    },
    {
      "cell_type": "code",
      "source": [
        "zipfile.ZipFile('/content/drive/MyDrive/Colab Notebooks/alura-curso-spark/zips/empresas.zip','r') \\\n",
        "  .extractall('/content/drive/MyDrive/Colab Notebooks/alura-curso-spark')"
      ],
      "metadata": {
        "id": "ezM5joYCV0zi"
      },
      "execution_count": null,
      "outputs": []
    },
    {
      "cell_type": "code",
      "source": [
        "zipfile.ZipFile('/content/drive/MyDrive/Colab Notebooks/alura-curso-spark/zips/estabelecimentos.zip','r') \\\n",
        "  .extractall('/content/drive/MyDrive/Colab Notebooks/alura-curso-spark')"
      ],
      "metadata": {
        "id": "74PX5HhQ6JCV"
      },
      "execution_count": null,
      "outputs": []
    },
    {
      "cell_type": "code",
      "source": [
        "zipfile.ZipFile('/content/drive/MyDrive/Colab Notebooks/alura-curso-spark/zips/socios.zip','r') \\\n",
        "  .extractall('/content/drive/MyDrive/Colab Notebooks/alura-curso-spark')"
      ],
      "metadata": {
        "id": "dRC4kluj6JaN"
      },
      "execution_count": null,
      "outputs": []
    },
    {
      "cell_type": "markdown",
      "source": [
        "## - Importando arquivos."
      ],
      "metadata": {
        "id": "w2Rf7gizYcgz"
      }
    },
    {
      "cell_type": "code",
      "source": [
        "path_empresas = '/content/drive/MyDrive/Colab Notebooks/alura-curso-spark/empresas'\n",
        "\n",
        "empresas = spark.read.csv(path_empresas, sep=';', inferSchema=True)"
      ],
      "metadata": {
        "id": "yWT-PKUqYAoO"
      },
      "execution_count": null,
      "outputs": []
    },
    {
      "cell_type": "code",
      "source": [
        "path_estabelecimentos = '/content/drive/MyDrive/Colab Notebooks/alura-curso-spark/estabelecimentos'\n",
        "\n",
        "estabelecimentos = spark.read.csv(path_estabelecimentos, sep=';', inferSchema=True)"
      ],
      "metadata": {
        "id": "wmT4_E5b6Hk_"
      },
      "execution_count": null,
      "outputs": []
    },
    {
      "cell_type": "code",
      "source": [
        "path_socios = '/content/drive/MyDrive/Colab Notebooks/alura-curso-spark/socios'\n",
        "\n",
        "socios = spark.read.csv(path_socios, sep=';', inferSchema=True)"
      ],
      "metadata": {
        "id": "BGo9dB5_6Hz6"
      },
      "execution_count": null,
      "outputs": []
    },
    {
      "cell_type": "markdown",
      "source": [
        "## - Testando arquivos no spark."
      ],
      "metadata": {
        "id": "T7Qi91wKYtCa"
      }
    },
    {
      "cell_type": "code",
      "source": [
        "empresas.count()"
      ],
      "metadata": {
        "id": "UyNJldUZYWXD",
        "colab": {
          "base_uri": "https://localhost:8080/"
        },
        "outputId": "fe739086-076b-4267-cfba-823869df577d"
      },
      "execution_count": null,
      "outputs": [
        {
          "output_type": "execute_result",
          "data": {
            "text/plain": [
              "4585679"
            ]
          },
          "metadata": {},
          "execution_count": 14
        }
      ]
    },
    {
      "cell_type": "code",
      "source": [
        "estabelecimentos.count()"
      ],
      "metadata": {
        "id": "wvsgGwy365RE",
        "colab": {
          "base_uri": "https://localhost:8080/"
        },
        "outputId": "29087109-68f3-4fee-cbdb-23369afd2d98"
      },
      "execution_count": null,
      "outputs": [
        {
          "output_type": "execute_result",
          "data": {
            "text/plain": [
              "4836219"
            ]
          },
          "metadata": {},
          "execution_count": 15
        }
      ]
    },
    {
      "cell_type": "code",
      "source": [
        "socios.count()"
      ],
      "metadata": {
        "id": "XaLNhFjM65oN",
        "colab": {
          "base_uri": "https://localhost:8080/"
        },
        "outputId": "68aef7e3-16cc-42c9-88ad-ff58cd6be95c"
      },
      "execution_count": null,
      "outputs": [
        {
          "output_type": "execute_result",
          "data": {
            "text/plain": [
              "2046430"
            ]
          },
          "metadata": {},
          "execution_count": 16
        }
      ]
    },
    {
      "cell_type": "markdown",
      "source": [
        "# # Inicializacao do processamento:"
      ],
      "metadata": {
        "id": "H-L-3YaIcjLc"
      }
    },
    {
      "cell_type": "markdown",
      "source": [
        "## - Renomeando colunas do DataFrame."
      ],
      "metadata": {
        "id": "vO4XKS9U8tnU"
      }
    },
    {
      "cell_type": "code",
      "source": [
        "empresasColNames = ['cnpj_basico', 'razao_social_nome_empresarial', 'natureza_juridica', 'qualificacao_do_responsavel', 'capital_social_da_empresa', 'porte_da_empresa', 'ente_federativo_responsavel']"
      ],
      "metadata": {
        "id": "YPzHWVeA88Zk"
      },
      "execution_count": null,
      "outputs": []
    },
    {
      "cell_type": "code",
      "source": [
        "for index, colName in enumerate(empresasColNames):\n",
        "  empresas = empresas.withColumnRenamed(f\"_c{index}\", colName)"
      ],
      "metadata": {
        "id": "k0ZfSv3t8978"
      },
      "execution_count": null,
      "outputs": []
    },
    {
      "cell_type": "code",
      "source": [
        "empresas.limit(5).toPandas()"
      ],
      "metadata": {
        "id": "egYN5G-biThx"
      },
      "execution_count": null,
      "outputs": []
    },
    {
      "cell_type": "code",
      "source": [
        "empresas.printSchema()"
      ],
      "metadata": {
        "id": "cZLdDFVsLru-"
      },
      "execution_count": null,
      "outputs": []
    },
    {
      "cell_type": "code",
      "source": [
        "estabsColNames = ['cnpj_basico', 'cnpj_ordem', 'cnpj_dv', 'identificador_matriz_filial', 'nome_fantasia', 'situacao_cadastral', 'data_situacao_cadastral', 'motivo_situacao_cadastral', 'nome_da_cidade_no_exterior', 'pais', 'data_de_inicio_atividade', 'cnae_fiscal_principal', 'cnae_fiscal_secundaria', 'tipo_de_logradouro', 'logradouro', 'numero', 'complemento', 'bairro', 'cep', 'uf', 'municipio', 'ddd_1', 'telefone_1', 'ddd_2', 'telefone_2', 'ddd_do_fax', 'fax', 'correio_eletronico', 'situacao_especial', 'data_da_situacao_especial']"
      ],
      "metadata": {
        "id": "YLq04aO693qb"
      },
      "execution_count": null,
      "outputs": []
    },
    {
      "cell_type": "code",
      "source": [
        "for index, colName in enumerate(estabsColNames):\n",
        "  estabelecimentos = estabelecimentos.withColumnRenamed(f\"_c{index}\", colName)"
      ],
      "metadata": {
        "id": "icJraX8q94w1"
      },
      "execution_count": null,
      "outputs": []
    },
    {
      "cell_type": "code",
      "source": [
        "estabelecimentos.limit(5).toPandas()"
      ],
      "metadata": {
        "id": "Mkc1YaN9iWw4"
      },
      "execution_count": null,
      "outputs": []
    },
    {
      "cell_type": "code",
      "source": [
        "estabelecimentos.printSchema()"
      ],
      "metadata": {
        "id": "VkdvUb7vLshc"
      },
      "execution_count": null,
      "outputs": []
    },
    {
      "cell_type": "code",
      "source": [
        "sociosColNames = ['cnpj_basico', 'identificador_de_socio', 'nome_do_socio_ou_razao_social', 'cnpj_ou_cpf_do_socio', 'qualificacao_do_socio', 'data_de_entrada_sociedade', 'pais', 'representante_legal', 'nome_do_representante', 'qualificacao_do_representante_legal', 'faixa_etaria']"
      ],
      "metadata": {
        "id": "zZ4JEoaX94oI"
      },
      "execution_count": null,
      "outputs": []
    },
    {
      "cell_type": "code",
      "source": [
        "for index, colName in enumerate(sociosColNames):\n",
        "  socios = socios.withColumnRenamed(f\"_c{index}\", colName)"
      ],
      "metadata": {
        "id": "EiSw8oDG94M2"
      },
      "execution_count": null,
      "outputs": []
    },
    {
      "cell_type": "code",
      "source": [
        "socios.limit(5).toPandas()"
      ],
      "metadata": {
        "id": "eayxnIZZiYYX"
      },
      "execution_count": null,
      "outputs": []
    },
    {
      "cell_type": "code",
      "source": [
        "socios.printSchema()"
      ],
      "metadata": {
        "id": "h_LsseNyLsz0"
      },
      "execution_count": null,
      "outputs": []
    },
    {
      "cell_type": "markdown",
      "source": [
        "## - Transformando virgula em ponto na coluna ***capital_social_da_empresa***."
      ],
      "metadata": {
        "id": "9xq1FvgdlshE"
      }
    },
    {
      "cell_type": "code",
      "source": [
        "from pyspark.sql.types import DoubleType, StringType\n",
        "from pyspark.sql import functions as f"
      ],
      "metadata": {
        "id": "SiPp-Z6wlsDr"
      },
      "execution_count": null,
      "outputs": []
    },
    {
      "cell_type": "code",
      "source": [
        "empresas = empresas.withColumn('capital_social_da_empresa', f.regexp_replace('capital_social_da_empresa', ',', '.'))"
      ],
      "metadata": {
        "id": "QqvMDuaBl4mz"
      },
      "execution_count": null,
      "outputs": []
    },
    {
      "cell_type": "markdown",
      "source": [
        "## - Transformando string em double na coluna ***capital_social_da_empresa***."
      ],
      "metadata": {
        "id": "7YHtAwxTRtai"
      }
    },
    {
      "cell_type": "code",
      "source": [
        "empresas = empresas.withColumn('capital_social_da_empresa', empresas['capital_social_da_empresa'].cast(DoubleType()))"
      ],
      "metadata": {
        "id": "d5VF0s1mpEBG"
      },
      "execution_count": null,
      "outputs": []
    },
    {
      "cell_type": "markdown",
      "source": [
        "## - Transformando string em date."
      ],
      "metadata": {
        "id": "f6hwBrfElGTq"
      }
    },
    {
      "cell_type": "code",
      "source": [
        "estabelecimentos = estabelecimentos \\\n",
        "  .withColumn(\n",
        "      'data_situacao_cadastral',\n",
        "      f.to_date(estabelecimentos.data_situacao_cadastral.cast(StringType()), 'yyyyMMdd')\n",
        "  ) \\\n",
        "  .withColumn(\n",
        "      'data_de_inicio_atividade',\n",
        "      f.to_date(estabelecimentos.data_de_inicio_atividade.cast(StringType()), 'yyyyMMdd')\n",
        "  ) \\\n",
        "  .withColumn(\n",
        "      'data_da_situacao_especial',\n",
        "      f.to_date(estabelecimentos.data_da_situacao_especial.cast(StringType()), 'yyyyMMdd')\n",
        "  )"
      ],
      "metadata": {
        "id": "VFLN2fptT0UK"
      },
      "execution_count": null,
      "outputs": []
    },
    {
      "cell_type": "code",
      "source": [
        "empresas \\\n",
        "  .select('natureza_juridica','porte_da_empresa','capital_social_da_empresa') \\\n",
        "  .show(5)"
      ],
      "metadata": {
        "id": "OePDtbRZnMqq"
      },
      "execution_count": null,
      "outputs": []
    },
    {
      "cell_type": "code",
      "source": [
        "socios = socios \\\n",
        "  .withColumn(\n",
        "    'data_de_entrada_sociedade',\n",
        "    f.to_date(socios.data_de_entrada_sociedade.cast(StringType()), 'yyyyMMdd')\n",
        "  )"
      ],
      "metadata": {
        "id": "PhCe7MaypR3Y"
      },
      "execution_count": null,
      "outputs": []
    },
    {
      "cell_type": "code",
      "source": [
        "socios \\\n",
        "  .select('nome_do_socio_ou_razao_social', 'faixa_etaria',  f.year('data_de_entrada_sociedade').alias('ano_de_entrada')) \\\n",
        "  .orderBy(['ano_de_entrada', 'faixa_etaria'], ascending=[False, False]) \\\n",
        "  .show(5, False)"
      ],
      "metadata": {
        "id": "gGz-QeYiosfy"
      },
      "execution_count": null,
      "outputs": []
    },
    {
      "cell_type": "markdown",
      "source": [
        "## - Contagem de nulls nas colunas."
      ],
      "metadata": {
        "id": "Z_ol9hNGxpVP"
      }
    },
    {
      "cell_type": "code",
      "source": [
        "socios.select([f.count(f.when(f.isnull(c), 1)).alias(c) for c in socios.columns]).show()"
      ],
      "metadata": {
        "id": "uwfqgK0yx8Vv"
      },
      "execution_count": null,
      "outputs": []
    },
    {
      "cell_type": "markdown",
      "source": [
        "### - - Observacao:"
      ],
      "metadata": {
        "id": "9Jgf4JbI9wEd"
      }
    },
    {
      "cell_type": "code",
      "source": [
        "socios.fillna(0).limit(5).show() # -> remove os nulls de colunas que nao sao string type\n",
        "socios.fillna('-').limit(5).show() # -> remove os nulls de colunas que sao string type"
      ],
      "metadata": {
        "id": "P_UTFItD0fkb"
      },
      "execution_count": null,
      "outputs": []
    },
    {
      "cell_type": "code",
      "source": [
        "# df = spark.createDataFrame([(1, ), (2, ), (3, ), (None, )], ['data'])\n",
        "# df.show() # ----> retorna null no ultimo elemento.\n",
        "# df.toPandas()# -> retorna 3 primeiros elementos como float e o ultimo elemento como NaN.\n",
        "\n",
        "# df = spark.createDataFrame([(1., ), (2., ), (3., ), (float('nan'), )], ['data'])\n",
        "# df.show() # ----\n",
        "               # |--> retornan NaN no ultimo elemento.\n",
        "# df.toPandas()# -\n",
        "\n",
        "# conclusao: NaN e um elemento do tipo double e/ou float.\n",
        "\"\"\"\n",
        "Dependendo da natureza dos dados, uma boa pratica seria substituir os NaNs\n",
        "por nulls, depois trata-los de maneira adequada, removendo-os ou preenchen-\n",
        "do-os\n",
        "\"\"\""
      ],
      "metadata": {
        "id": "O_hc4jmZ5jp_"
      },
      "execution_count": null,
      "outputs": []
    },
    {
      "cell_type": "markdown",
      "source": [
        "## - - Filatrando dados."
      ],
      "metadata": {
        "id": "E4GHqrg366K4"
      }
    },
    {
      "cell_type": "code",
      "source": [
        "  # .where(empresas.capital_social_da_empresa == 50) \\\n",
        "empresas \\\n",
        "  .where('capital_social_da_empresa==50') \\\n",
        "  .toPandas()"
      ],
      "metadata": {
        "id": "DH7aS6cC65vA"
      },
      "execution_count": null,
      "outputs": []
    },
    {
      "cell_type": "code",
      "source": [
        "socios \\\n",
        "  .select('nome_do_socio_ou_razao_social') \\\n",
        "  .filter(socios.nome_do_socio_ou_razao_social.startswith(\"RODRIGO\")) \\\n",
        "  .filter(socios.nome_do_socio_ou_razao_social.endswith(\"DIAS\")) \\\n",
        "  .limit(10) \\\n",
        "  .toPandas()"
      ],
      "metadata": {
        "id": "AbtoRqzo9hPq"
      },
      "execution_count": null,
      "outputs": []
    },
    {
      "cell_type": "code",
      "source": [
        "df = spark.createDataFrame([('RESTAURANTE DO RUI',), ('Juca restaurantes ltda',), ('Joca Restaurante',)], ['data'])\n",
        "\n",
        "df \\\n",
        "  .where(f.upper(df.data).like('%RESTAURANTE%')) \\\n",
        "  .show(truncate=False)\n"
      ],
      "metadata": {
        "id": "dkoaJviKCkAX"
      },
      "execution_count": null,
      "outputs": []
    },
    {
      "cell_type": "code",
      "source": [
        "empresas\\\n",
        "    .select('razao_social_nome_empresarial', 'natureza_juridica', 'porte_da_empresa', 'capital_social_da_empresa')\\\n",
        "    .filter(f.upper(empresas['razao_social_nome_empresarial']).like('%RESTAURANTE%'))\\\n",
        "    .show(15, False)"
      ],
      "metadata": {
        "id": "Plaar_bQGq63"
      },
      "execution_count": null,
      "outputs": []
    },
    {
      "cell_type": "markdown",
      "source": [
        "# - Sumarizacao dos dados."
      ],
      "metadata": {
        "id": "BTO8uc0kyrRH"
      }
    },
    {
      "cell_type": "markdown",
      "source": [
        "## - - Contando e ordenando dados."
      ],
      "metadata": {
        "id": "tg_pq3dn7SHX"
      }
    },
    {
      "cell_type": "code",
      "source": [
        "socios \\\n",
        "  .select(f.year('data_de_entrada_sociedade').alias('ano_de_entrada')) \\\n",
        "  .where('ano_de_entrada >= 2010') \\\n",
        "  .groupBy('ano_de_entrada') \\\n",
        "  .count() \\\n",
        "  .orderBy('ano_de_entrada', ascending=True) \\\n",
        "  .show()"
      ],
      "metadata": {
        "id": "2x7Rr_tVyqcm"
      },
      "execution_count": null,
      "outputs": []
    },
    {
      "cell_type": "markdown",
      "source": [
        "## - - Agregacao de dados."
      ],
      "metadata": {
        "id": "pjeieqN07YU2"
      }
    },
    {
      "cell_type": "code",
      "source": [
        "empresas \\\n",
        "  .select('cnpj_basico', 'porte_da_empresa', 'capital_social_da_empresa') \\\n",
        "  .groupBy('porte_da_empresa') \\\n",
        "  .agg(\\\n",
        "      f.avg('capital_social_da_empresa').alias('capital_social_medio'),\n",
        "      f.count('cnpj_basico').alias('frequencia')\n",
        "  ) \\\n",
        "  .show()"
      ],
      "metadata": {
        "id": "EZqz9_0b7XpG"
      },
      "execution_count": null,
      "outputs": []
    },
    {
      "cell_type": "code",
      "source": [
        "empresas \\\n",
        "  .select('capital_social_da_empresa') \\\n",
        "  .summary() \\\n",
        "  .show()"
      ],
      "metadata": {
        "id": "f-gGmsQn-e5R"
      },
      "execution_count": null,
      "outputs": []
    },
    {
      "cell_type": "markdown",
      "source": [
        "## - - Entendendo Joins."
      ],
      "metadata": {
        "id": "s79W-r5tUxsN"
      }
    },
    {
      "cell_type": "code",
      "source": [
        "empresas_join = estabelecimentos.join(empresas, 'cnpj_basico', how='inner')"
      ],
      "metadata": {
        "id": "bfxQUOlNUxct"
      },
      "execution_count": null,
      "outputs": []
    },
    {
      "cell_type": "markdown",
      "source": [
        "## - - Calculando a frequencia."
      ],
      "metadata": {
        "id": "bIPLGULEWmYy"
      }
    },
    {
      "cell_type": "code",
      "source": [
        "freq = empresas_join \\\n",
        "    .select(\n",
        "        'cnpj_basico', \n",
        "        f.year('data_de_inicio_atividade').alias('data_de_inicio')\n",
        "    )\\\n",
        "    .where('data_de_inicio >= 2010')\\\n",
        "    .groupBy('data_de_inicio')\\\n",
        "    .agg(f.count(\"cnpj_basico\").alias(\"frequencia\"))\\\n",
        "    .orderBy('data_de_inicio', ascending=True)"
      ],
      "metadata": {
        "id": "mxHoLNioWc96"
      },
      "execution_count": null,
      "outputs": []
    },
    {
      "cell_type": "code",
      "source": [
        "freq.toPandas()"
      ],
      "metadata": {
        "id": "cKWgUPdEWeqI"
      },
      "execution_count": null,
      "outputs": []
    },
    {
      "cell_type": "code",
      "source": [
        "freq.union(\n",
        "    freq.select(\n",
        "        f.lit('Total').alias('kkkk'), # .lit() -> cria um valor literal logo abaixo da ultima linha\n",
        "        f.sum(freq.frequencia).alias('frequencia')\n",
        "    )\n",
        ").show()"
      ],
      "metadata": {
        "id": "O9wUtxFaWy7n"
      },
      "execution_count": null,
      "outputs": []
    }
  ]
}